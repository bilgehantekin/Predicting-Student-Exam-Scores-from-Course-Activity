{
 "cells": [
  {
   "cell_type": "code",
   "execution_count": null,
   "id": "initial_id",
   "metadata": {
    "collapsed": true
   },
   "outputs": [],
   "source": [
    "import os\n",
    "import json\n",
    "import re\n",
    "import pandas as pd\n",
    "from collections import defaultdict\n",
    "import hashlib\n",
    "\n",
    "quiz_folder = \"/kaggle/input/student-data-2/Quizzes\"\n",
    "quiz_files = [f for f in os.listdir(quiz_folder) if f.startswith(\"Quiz\") and f.endswith(\".json\")]\n",
    "\n",
    "def hash_code(code_str):\n",
    "    return hashlib.md5(code_str.strip().encode('utf-8')).hexdigest()\n",
    "\n",
    "def extract_quiz_features(code_list):\n",
    "    full_code = \"\\n\".join(code_list)\n",
    "    lines = full_code.splitlines()\n",
    "    num_classes = full_code.count(\"class \")\n",
    "    num_oop_methods = sum(full_code.count(keyword) for keyword in [\"get\", \"set\", \"constructor\", \"hunt\"])\n",
    "    used_array = int(\"[]\" in full_code or \"ArrayList\" in full_code)\n",
    "    num_methods = len(re.findall(r\"(public\\s+.*?\\s+\\w+\\s*\\(.*?\\)\\s*\\{)\", full_code))\n",
    "    num_comments = len([l for l in lines if \"//\" in l or \"/*\" in l or l.strip().startswith(\"*\")])\n",
    "    avg_quiz_line_length = sum(len(l) for l in lines) / len(lines) if lines else 0\n",
    "\n",
    "    return {\n",
    "        \"num_quiz_files\": len(code_list),\n",
    "        \"total_quiz_lines\": len(lines),\n",
    "        \"avg_quiz_line_length\": avg_quiz_line_length,\n",
    "        \"num_classes\": num_classes,\n",
    "        \"num_methods\": num_methods,\n",
    "        \"num_comments\": num_comments,\n",
    "        \"num_oop_methods\": num_oop_methods,\n",
    "        \"used_array\": used_array,\n",
    "    }\n",
    "\n",
    "student_quiz_codes = defaultdict(dict)\n",
    "\n",
    "for file_name in quiz_files:\n",
    "    with open(os.path.join(quiz_folder, file_name), \"r\", encoding=\"utf-8\") as f:\n",
    "        data = json.load(f)\n",
    "        for answer in data[\"answers\"]:\n",
    "            uid = answer[\"id\"]\n",
    "            for k, v in answer.items():\n",
    "                if k.endswith(\".java\"):\n",
    "                    h = hash_code(v)\n",
    "                    student_quiz_codes[uid][h] = v\n",
    "\n",
    "quiz_features = {}\n",
    "\n",
    "for uid in student_quiz_codes:\n",
    "    code_list = list(student_quiz_codes[uid].values())\n",
    "    quiz_features[uid] = extract_quiz_features(code_list)\n",
    "\n",
    "quiz_df = pd.DataFrame.from_dict(quiz_features, orient=\"index\").reset_index()\n",
    "quiz_df.rename(columns={\"index\": \"UID\"}, inplace=True)\n",
    "\n",
    "quiz_df.to_csv(\"quiz_features_2.csv\", index=False)\n"
   ]
  }
 ],
 "metadata": {
  "kernelspec": {
   "display_name": "Python 3",
   "language": "python",
   "name": "python3"
  },
  "language_info": {
   "codemirror_mode": {
    "name": "ipython",
    "version": 2
   },
   "file_extension": ".py",
   "mimetype": "text/x-python",
   "name": "python",
   "nbconvert_exporter": "python",
   "pygments_lexer": "ipython2",
   "version": "2.7.6"
  }
 },
 "nbformat": 4,
 "nbformat_minor": 5
}
