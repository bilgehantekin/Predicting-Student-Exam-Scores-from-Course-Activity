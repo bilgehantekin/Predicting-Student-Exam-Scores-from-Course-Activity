{
 "cells": [
  {
   "cell_type": "code",
   "execution_count": null,
   "id": "initial_id",
   "metadata": {
    "collapsed": true
   },
   "outputs": [],
   "source": [
    "import os\n",
    "import json\n",
    "import pandas as pd\n",
    "\n",
    "project_folder = \"/kaggle/input/bil-471/Projects\"\n",
    "project_files = sorted([f for f in os.listdir(project_folder) if f.endswith(\".json\")])\n",
    "\n",
    "rows = []\n",
    "\n",
    "for project_file in project_files:\n",
    "    project_name = project_file.split(\".\")[0].upper()\n",
    "    with open(os.path.join(project_files, project_file), encoding=\"utf-8\") as f:\n",
    "        data = json.load(f)\n",
    "\n",
    "    question = data[\"questions\"][0].replace(\"\\n\", \" \").strip()\n",
    "\n",
    "    for ans in data[\"answers\"]:\n",
    "        uid = ans.get(\"id\", \"\")\n",
    "        answer_texts = []\n",
    "        for k, v in ans.items():\n",
    "            if k.endswith(\".java\"):\n",
    "                cleaned_code = v.replace(\"\\n\", \" ⏎ \")\n",
    "                answer_texts.append(f\"[{k}]: {cleaned_code}\")\n",
    "        student_answer = \" | \".join(answer_texts)\n",
    "\n",
    "        rows.append({\n",
    "            \"project_name\": project_name,\n",
    "            \"UID\": uid,\n",
    "            \"student_answer\": student_answer\n",
    "        })\n",
    "\n",
    "df = pd.DataFrame(rows)\n",
    "df.to_csv(\"all_project_answers_clean.tsv\", sep=\"\\t\", index=False, encoding=\"utf-8\")\n"
   ]
  }
 ],
 "metadata": {
  "kernelspec": {
   "display_name": "Python 3",
   "language": "python",
   "name": "python3"
  },
  "language_info": {
   "codemirror_mode": {
    "name": "ipython",
    "version": 2
   },
   "file_extension": ".py",
   "mimetype": "text/x-python",
   "name": "python",
   "nbconvert_exporter": "python",
   "pygments_lexer": "ipython2",
   "version": "2.7.6"
  }
 },
 "nbformat": 4,
 "nbformat_minor": 5
}
