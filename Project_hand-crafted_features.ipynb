{
 "cells": [
  {
   "cell_type": "code",
   "execution_count": null,
   "id": "initial_id",
   "metadata": {
    "collapsed": true
   },
   "outputs": [],
   "source": [
    "import os\n",
    "import json\n",
    "import re\n",
    "import pandas as pd\n",
    "from collections import defaultdict\n",
    "\n",
    "project_file = \"/kaggle/input/student-data-2/Projects/Projects.json\"\n",
    "output_csv = \"project_features.csv\"\n",
    "\n",
    "def extract_project_features(code_list):\n",
    "    full_code = \"\\n\".join(code_list)\n",
    "    lines = [l for l in full_code.splitlines() if l.strip()]\n",
    "\n",
    "    class_count = len(re.findall(r\"\\bclass\\s+\\w+\", full_code))\n",
    "    method_matches = re.findall(r\"(public|private|protected)?\\s+(static\\s+)?\\w+\\s+\\w+\\s*\\(.*?\\)\\s*{\", full_code)\n",
    "    method_lines = [l for l in lines if re.search(r\"\\b(public|private|protected)\\b.*\\(.*\\)\\s*{\", l)]\n",
    "    method_lengths = [len(m.splitlines()) for m in re.split(r\"\\b(public|private|protected)\\b.*?\\(.*?\\)\\s*{\", full_code) if m.strip()]\n",
    "\n",
    "    oop_terms = [\"abstract\", \"interface\", \"extends\", \"implements\", \"super\", \"this\"]\n",
    "    used_oop = int(any(term in full_code for term in oop_terms))\n",
    "\n",
    "    num_imports = len(re.findall(r\"\\bimport\\s+.*?;\", full_code))\n",
    "    num_exceptions = len(re.findall(r\"\\btry\\s*{|\\bcatch\\s*\\(|\\bfinally\\s*{\", full_code))\n",
    "    num_comments = len([l for l in lines if \"//\" in l or \"/*\" in l or l.strip().startswith(\"*\")])\n",
    "    total_lines = len(lines)\n",
    "\n",
    "    cyclomatic_complexity = sum(len(re.findall(pat, full_code)) for pat in [r\"\\bif\\s*\\(\", r\"\\bfor\\s*\\(\", r\"\\bwhile\\s*\\(\", r\"\\bcase\\s+\"])\n",
    "\n",
    "    return {\n",
    "        \"num_classes\": class_count,\n",
    "        \"num_methods\": len(method_matches),\n",
    "        \"avg_method_length\": sum(method_lengths)/len(method_lengths) if method_lengths else 0,\n",
    "        \"used_oop_features\": used_oop,\n",
    "        \"num_imports\": num_imports,\n",
    "        \"num_exceptions\": num_exceptions,\n",
    "        \"cyclomatic_complexity_approx\": cyclomatic_complexity,\n",
    "        \"num_comments\": num_comments,\n",
    "        \"comment_ratio\": num_comments / total_lines if total_lines else 0,\n",
    "        \"total_lines\": total_lines,\n",
    "    }\n",
    "\n",
    "with open(project_file, \"r\", encoding=\"utf-8\") as f:\n",
    "    data = json.load(f)\n",
    "\n",
    "project_features = {}\n",
    "\n",
    "for answer in data[\"answers\"]:\n",
    "    uid = answer[\"id\"]\n",
    "    code_list = [v for k, v in answer.items() if k.endswith(\".java\")]\n",
    "    project_features[uid] = extract_project_features(code_list)\n",
    "\n",
    "project_df = pd.DataFrame.from_dict(project_features, orient=\"index\").reset_index()\n",
    "project_df.rename(columns={\"index\": \"UID\"}, inplace=True)\n",
    "\n",
    "print(project_df.head())\n",
    "project_df.to_csv(output_csv, index=False)\n"
   ]
  }
 ],
 "metadata": {
  "kernelspec": {
   "display_name": "Python 3",
   "language": "python",
   "name": "python3"
  },
  "language_info": {
   "codemirror_mode": {
    "name": "ipython",
    "version": 2
   },
   "file_extension": ".py",
   "mimetype": "text/x-python",
   "name": "python",
   "nbconvert_exporter": "python",
   "pygments_lexer": "ipython2",
   "version": "2.7.6"
  }
 },
 "nbformat": 4,
 "nbformat_minor": 5
}
