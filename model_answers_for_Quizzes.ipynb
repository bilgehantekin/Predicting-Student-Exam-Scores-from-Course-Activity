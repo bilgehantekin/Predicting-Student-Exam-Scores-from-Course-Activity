{
 "cells": [
  {
   "cell_type": "code",
   "execution_count": null,
   "id": "initial_id",
   "metadata": {
    "collapsed": true
   },
   "outputs": [],
   "source": [
    "import os\n",
    "import json\n",
    "import pandas as pd\n",
    "from transformers import pipeline, AutoTokenizer, AutoModelForCausalLM\n",
    "\n",
    "def clean_turkish_text(text):\n",
    "    import re\n",
    "    text = text.replace('\\n', ' ')\n",
    "    text = re.sub(r'\\s+', ' ', text)\n",
    "    return text.strip()\n",
    "\n",
    "from kaggle_secrets import UserSecretsClient\n",
    "user_secrets = UserSecretsClient()\n",
    "hf_token = user_secrets.get_secret(\"token\")\n",
    "MODEL_NAME = \"mistralai/Mistral-7B-Instruct-v0.2\"\n",
    "tokenizer = AutoTokenizer.from_pretrained(MODEL_NAME, token=hf_token)\n",
    "model = AutoModelForCausalLM.from_pretrained(MODEL_NAME, token=hf_token, device_map=\"auto\", torch_dtype=\"auto\")\n",
    "generator = pipeline(\"text-generation\", model=model, tokenizer=tokenizer)\n",
    "\n",
    "quiz_folder = \"/kaggle/input/bil-471/Quizzes\"\n",
    "main_quizzes = [\"Quiz1.ube_1.json\", \"Quiz2.ube_1.json\", \"Quiz3.ube_1.json\", \"Quiz4.ube_1.json\"]\n",
    "rows = []\n",
    "\n",
    "for quiz_file in main_quizzes:\n",
    "    quiz_name = quiz_file.split(\".\")[0].upper()\n",
    "    file_path = os.path.join(quiz_folder, quiz_file)\n",
    "    with open(file_path, \"r\", encoding=\"utf-8\") as f:\n",
    "        data = json.load(f)\n",
    "\n",
    "    question = clean_turkish_text(data[\"questions\"][0])\n",
    "    prompt = (\n",
    "        f\"Aşağıdaki çok maddeli programlama sorularının her birine ayrı ayrı, tam ve doğru bir Java kodu üret. \"\n",
    "        \"Her alt sorunun başlığıyla birlikte tam kodunu döndür. Yalnızca kodları döndür, açıklama veya yorum ekleme. \"\n",
    "        \"Soru: \" + question + \"\\nCevap:\"\n",
    "    )\n",
    "\n",
    "    out = generator(\n",
    "        prompt,\n",
    "        max_new_tokens=2000,\n",
    "        temperature=0.1,\n",
    "        pad_token_id=tokenizer.eos_token_id\n",
    "    )[0][\"generated_text\"]\n",
    "    ref_answer = out.split(\"Cevap:\")[-1].strip()\n",
    "\n",
    "    print(f\"{quiz_name} için referans cevap üretildi.\\n---\\n{ref_answer[:500]}...\\n---\\n\")\n",
    "\n",
    "    rows.append({\n",
    "        \"quiz_name\": quiz_name,\n",
    "        \"question\": question,\n",
    "        \"reference_answer\": ref_answer\n",
    "    })\n",
    "\n",
    "df = pd.DataFrame(rows)\n",
    "df.to_csv(\"/kaggle/working/quiz_reference_answers.csv\", index=False, encoding=\"utf-8\")\n"
   ]
  }
 ],
 "metadata": {
  "kernelspec": {
   "display_name": "Python 3",
   "language": "python",
   "name": "python3"
  },
  "language_info": {
   "codemirror_mode": {
    "name": "ipython",
    "version": 2
   },
   "file_extension": ".py",
   "mimetype": "text/x-python",
   "name": "python",
   "nbconvert_exporter": "python",
   "pygments_lexer": "ipython2",
   "version": "2.7.6"
  }
 },
 "nbformat": 4,
 "nbformat_minor": 5
}
