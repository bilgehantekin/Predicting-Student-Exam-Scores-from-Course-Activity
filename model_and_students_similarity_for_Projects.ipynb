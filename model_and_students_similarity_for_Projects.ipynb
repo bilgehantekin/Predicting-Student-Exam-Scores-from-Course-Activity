{
 "cells": [
  {
   "cell_type": "code",
   "execution_count": null,
   "id": "initial_id",
   "metadata": {
    "collapsed": true
   },
   "outputs": [],
   "source": [
    "import pandas as pd\n",
    "\n",
    "train_df = pd.read_csv(\"/kaggle/input/student-data-2/processed_train_student - processed_train_student.csv\")\n",
    "test_df = pd.read_csv(\"/kaggle/input/student-data-2/processed_test_student - processed_test_student.csv\")\n",
    "\n",
    "all_uids = sorted(set(train_df[\"UID\"].tolist() + test_df[\"UID\"].tolist()))\n",
    "\n",
    "from sentence_transformers import SentenceTransformer\n",
    "from sklearn.metrics.pairwise import cosine_similarity\n",
    "\n",
    "student_df = pd.read_csv(\"/kaggle/input/project-answer-data/all_project_answers_clean.csv\")\n",
    "ref_df = pd.read_csv(\"/kaggle/input/project-answers/project_reference_answers.csv\")\n",
    "\n",
    "embed_model = SentenceTransformer(\"sentence-transformers/all-MiniLM-L6-v2\")\n",
    "\n",
    "ref_answers = {}\n",
    "for project in [\"PROJECT1\"]:\n",
    "    ref_text = ref_df[ref_df[\"project_name\"] == project][\"reference_answer\"].values[0]\n",
    "    ref_answers[project] = embed_model.encode(ref_text)\n",
    "\n",
    "results = []\n",
    "for uid in all_uids:\n",
    "    row = {\"UID\": uid}\n",
    "    for project in [\"PROJECT1\"]:\n",
    "        stu_ans = student_df[(student_df[\"UID\"] == uid) & (student_df[\"project_name\"] == project)][\"student_answer\"]\n",
    "        if not stu_ans.empty:\n",
    "            all_answers = \" \".join(stu_ans.values)\n",
    "            stu_emb = embed_model.encode(all_answers)\n",
    "            sim = cosine_similarity([stu_emb], [ref_answers[project]])[0][0]\n",
    "            row[f\"{project}_similarity\"] = round(sim, 4)\n",
    "        else:\n",
    "            row[f\"{project}_similarity\"] = 0.0\n",
    "    results.append(row)\n",
    "\n",
    "df_score = pd.DataFrame(results)\n",
    "df_score.to_csv(\"/kaggle/working/project_similarity_scores_alluids.csv\", index=False)\n"
   ]
  }
 ],
 "metadata": {
  "kernelspec": {
   "display_name": "Python 3",
   "language": "python",
   "name": "python3"
  },
  "language_info": {
   "codemirror_mode": {
    "name": "ipython",
    "version": 2
   },
   "file_extension": ".py",
   "mimetype": "text/x-python",
   "name": "python",
   "nbconvert_exporter": "python",
   "pygments_lexer": "ipython2",
   "version": "2.7.6"
  }
 },
 "nbformat": 4,
 "nbformat_minor": 5
}
